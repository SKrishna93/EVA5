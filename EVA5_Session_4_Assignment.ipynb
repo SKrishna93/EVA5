{
  "nbformat": 4,
  "nbformat_minor": 0,
  "metadata": {
    "colab": {
      "name": "EVA5 - Session 4_Assignment.ipynb",
      "provenance": [],
      "collapsed_sections": [],
      "include_colab_link": true
    },
    "kernelspec": {
      "name": "python3",
      "display_name": "Python 3"
    },
    "accelerator": "GPU"
  },
  "cells": [
    {
      "cell_type": "markdown",
      "metadata": {
        "id": "view-in-github",
        "colab_type": "text"
      },
      "source": [
        "<a href=\"https://colab.research.google.com/github/SKrishna93/EVA5/blob/master/EVA5_Session_4_Assignment.ipynb\" target=\"_parent\"><img src=\"https://colab.research.google.com/assets/colab-badge.svg\" alt=\"Open In Colab\"/></a>"
      ]
    },
    {
      "cell_type": "code",
      "metadata": {
        "id": "0m2JWFliFfKT",
        "colab_type": "code",
        "colab": {}
      },
      "source": [
        "# Importing torch packages for Neural Network building\n",
        "from __future__ import print_function\n",
        "import torch\n",
        "import torch.nn as nn\n",
        "import torch.nn.functional as F\n",
        "import torch.optim as optim\n",
        "from torchvision import datasets, transforms"
      ],
      "execution_count": 16,
      "outputs": []
    },
    {
      "cell_type": "code",
      "metadata": {
        "id": "h_Cx9q2QFgM7",
        "colab_type": "code",
        "colab": {}
      },
      "source": [
        "class Net(nn.Module):\n",
        "  def __init__(self):\n",
        "    super(Net, self).__init__() \n",
        "    self.conv1 = nn.Sequential(\n",
        "        nn.Conv2d(in_channels=1, out_channels=8, kernel_size=3, padding=1), # Input=28x28x1 Kernel=3x3x1x8 Output=28x28x8 RF=3x3\n",
        "        nn.ReLU(),\n",
        "        nn.BatchNorm2d(8),\n",
        "        nn.Conv2d(8, 10, 3, padding=1), # Input=28x28x8 Kernel=3x3x8x10 Output=28x28x10 RF=5x5\n",
        "        nn.ReLU(),\n",
        "        nn.BatchNorm2d(10),\n",
        "        nn.Conv2d(10, 10, 3, padding=1), #Input=28x28x10 Kernel=3x3x10x10 Output=28x28x10 RF=7x7\n",
        "        nn.ReLU(),\n",
        "        nn.BatchNorm2d(10),\n",
        "        nn.MaxPool2d(2, 2), # Input=28x28x10 Output=14x14x10 RF=14x14\n",
        "        nn.Dropout(0.1)\n",
        "        ) #First Convolution and Transistion Block. RF achieved 7x7 during Convolution.\n",
        "\n",
        "    self.conv2 = nn.Sequential(\n",
        "        nn.Conv2d(10, 10, 3, padding=1), #Input=14x14x10 Kernel=3x3x10x10 Output=14x14x10 RF=16x16\n",
        "        nn.ReLU(),\n",
        "        nn.BatchNorm2d(10),\n",
        "        nn.Conv2d(10, 16, 3, padding=1), #Input=14x14x10 Kernel=3x3x10x16 Output=14x14x16 RF=18x18\n",
        "        nn.ReLU(),\n",
        "        nn.BatchNorm2d(16),\n",
        "        nn.MaxPool2d(2, 2), #Input=14x14x16 Output=7x7x16 RF=20x20\n",
        "        nn.Dropout(0.05)\n",
        "        ) #Second Convolution and Transistion block. RF achieved 20x20\n",
        "\n",
        "    self.conv3 = nn.Sequential(\n",
        "        nn.Conv2d(16, 32, 3), #Input=7x7x16 Kernel=3x3x16x32 Output=5x5x32 RF=22x22\n",
        "        nn.ReLU(),\n",
        "        nn.BatchNorm2d(32),\n",
        "        nn.Conv2d(32, 32, 3), #Input=5x5x32 Kernel=3x3x32x32 Output=3x3x32 RF=24x24\n",
        "        #nn.ReLU(),\n",
        "        #nn.BatchNorm2d(32),\n",
        "        nn.AdaptiveAvgPool2d(1), #Input=3x3x32 Kernel=3x3x32 Output=1x1x32\n",
        "        nn.Conv2d(32, 10, 1) #Input=1x1x32 Kernel=1x1x32x10 Output=1x1x10\n",
        "        ) #Final Convolution \n",
        "\n",
        "\n",
        "  def forward(self, x):\n",
        "    x = self.conv1(x)\n",
        "    x = self.conv2(x)\n",
        "    x = self.conv3(x)\n",
        "    x = x.view(-1, 10)\n",
        "    return F.log_softmax(x)"
      ],
      "execution_count": 22,
      "outputs": []
    },
    {
      "cell_type": "code",
      "metadata": {
        "colab_type": "code",
        "id": "xdydjYTZFyi3",
        "colab": {
          "base_uri": "https://localhost:8080/",
          "height": 717
        },
        "outputId": "76754e73-9174-418a-9493-64cabd8ad868"
      },
      "source": [
        "!pip install torchsummary\n",
        "from torchsummary import summary\n",
        "use_cuda = torch.cuda.is_available()\n",
        "device = torch.device(\"cuda\" if use_cuda else \"cpu\")\n",
        "model = Net().to(device)\n",
        "summary(model, input_size=(1, 28, 28))"
      ],
      "execution_count": 23,
      "outputs": [
        {
          "output_type": "stream",
          "text": [
            "Requirement already satisfied: torchsummary in /usr/local/lib/python3.6/dist-packages (1.5.1)\n",
            "----------------------------------------------------------------\n",
            "        Layer (type)               Output Shape         Param #\n",
            "================================================================\n",
            "            Conv2d-1            [-1, 8, 28, 28]              80\n",
            "              ReLU-2            [-1, 8, 28, 28]               0\n",
            "       BatchNorm2d-3            [-1, 8, 28, 28]              16\n",
            "            Conv2d-4           [-1, 10, 28, 28]             730\n",
            "              ReLU-5           [-1, 10, 28, 28]               0\n",
            "       BatchNorm2d-6           [-1, 10, 28, 28]              20\n",
            "            Conv2d-7           [-1, 10, 28, 28]             910\n",
            "              ReLU-8           [-1, 10, 28, 28]               0\n",
            "       BatchNorm2d-9           [-1, 10, 28, 28]              20\n",
            "        MaxPool2d-10           [-1, 10, 14, 14]               0\n",
            "          Dropout-11           [-1, 10, 14, 14]               0\n",
            "           Conv2d-12           [-1, 10, 14, 14]             910\n",
            "             ReLU-13           [-1, 10, 14, 14]               0\n",
            "      BatchNorm2d-14           [-1, 10, 14, 14]              20\n",
            "           Conv2d-15           [-1, 16, 14, 14]           1,456\n",
            "             ReLU-16           [-1, 16, 14, 14]               0\n",
            "      BatchNorm2d-17           [-1, 16, 14, 14]              32\n",
            "        MaxPool2d-18             [-1, 16, 7, 7]               0\n",
            "          Dropout-19             [-1, 16, 7, 7]               0\n",
            "           Conv2d-20             [-1, 32, 5, 5]           4,640\n",
            "             ReLU-21             [-1, 32, 5, 5]               0\n",
            "      BatchNorm2d-22             [-1, 32, 5, 5]              64\n",
            "           Conv2d-23             [-1, 32, 3, 3]           9,248\n",
            "AdaptiveAvgPool2d-24             [-1, 32, 1, 1]               0\n",
            "           Conv2d-25             [-1, 10, 1, 1]             330\n",
            "================================================================\n",
            "Total params: 18,476\n",
            "Trainable params: 18,476\n",
            "Non-trainable params: 0\n",
            "----------------------------------------------------------------\n",
            "Input size (MB): 0.00\n",
            "Forward/backward pass size (MB): 0.68\n",
            "Params size (MB): 0.07\n",
            "Estimated Total Size (MB): 0.76\n",
            "----------------------------------------------------------------\n"
          ],
          "name": "stdout"
        },
        {
          "output_type": "stream",
          "text": [
            "/usr/local/lib/python3.6/dist-packages/ipykernel_launcher.py:46: UserWarning: Implicit dimension choice for log_softmax has been deprecated. Change the call to include dim=X as an argument.\n"
          ],
          "name": "stderr"
        }
      ]
    },
    {
      "cell_type": "code",
      "metadata": {
        "id": "DqTWLaM5GHgH",
        "colab_type": "code",
        "colab": {}
      },
      "source": [
        "\n",
        "\n",
        "torch.manual_seed(1)\n",
        "batch_size = 128\n",
        "\n",
        "kwargs = {'num_workers': 1, 'pin_memory': True} if use_cuda else {}\n",
        "train_loader = torch.utils.data.DataLoader(\n",
        "    datasets.MNIST('../data', train=True, download=True,\n",
        "                    transform=transforms.Compose([\n",
        "                        transforms.ToTensor(),\n",
        "                        transforms.Normalize((0.1307,), (0.3081,))\n",
        "                    ])),\n",
        "    batch_size=batch_size, shuffle=True, **kwargs)\n",
        "test_loader = torch.utils.data.DataLoader(\n",
        "    datasets.MNIST('../data', train=False, transform=transforms.Compose([\n",
        "                        transforms.ToTensor(),\n",
        "                        transforms.Normalize((0.1307,), (0.3081,))\n",
        "                    ])),\n",
        "    batch_size=batch_size, shuffle=True, **kwargs)\n"
      ],
      "execution_count": 19,
      "outputs": []
    },
    {
      "cell_type": "code",
      "metadata": {
        "id": "8fDefDhaFlwH",
        "colab_type": "code",
        "colab": {}
      },
      "source": [
        "from tqdm import tqdm\n",
        "def train(model, device, train_loader, optimizer, epoch):\n",
        "    model.train()\n",
        "    pbar = tqdm(train_loader)\n",
        "    for batch_idx, (data, target) in enumerate(pbar):\n",
        "        data, target = data.to(device), target.to(device)\n",
        "        optimizer.zero_grad()\n",
        "        output = model(data)\n",
        "        loss = F.nll_loss(output, target)\n",
        "        loss.backward()\n",
        "        optimizer.step()\n",
        "        pbar.set_description(desc= f'loss={loss.item()} batch_id={batch_idx}')\n",
        "\n",
        "\n",
        "def test(model, device, test_loader):\n",
        "    model.eval()\n",
        "    test_loss = 0\n",
        "    correct = 0\n",
        "    with torch.no_grad():\n",
        "        for data, target in test_loader:\n",
        "            data, target = data.to(device), target.to(device)\n",
        "            output = model(data)\n",
        "            test_loss += F.nll_loss(output, target, reduction='sum').item()  # sum up batch loss\n",
        "            pred = output.argmax(dim=1, keepdim=True)  # get the index of the max log-probability\n",
        "            correct += pred.eq(target.view_as(pred)).sum().item()\n",
        "\n",
        "    test_loss /= len(test_loader.dataset)\n",
        "\n",
        "    print('\\nTest set: Average loss: {:.4f}, Accuracy: {}/{} ({:.2f}%)\\n'.format(\n",
        "        test_loss, correct, len(test_loader.dataset),\n",
        "        100. * correct / len(test_loader.dataset)))"
      ],
      "execution_count": 20,
      "outputs": []
    },
    {
      "cell_type": "code",
      "metadata": {
        "id": "MMWbLWO6FuHb",
        "colab_type": "code",
        "colab": {
          "base_uri": "https://localhost:8080/",
          "height": 1000
        },
        "outputId": "5905c8f2-7838-4411-a411-d1ebf3d5b319"
      },
      "source": [
        "model = Net().to(device)\n",
        "optimizer = optim.SGD(model.parameters(), lr=0.01, momentum=0.9)\n",
        "\n",
        "for epoch in range(1, 18):\n",
        "    print(epoch)\n",
        "    train(model, device, train_loader, optimizer, epoch)\n",
        "    test(model, device, test_loader)"
      ],
      "execution_count": 24,
      "outputs": [
        {
          "output_type": "stream",
          "text": [
            "\r  0%|          | 0/469 [00:00<?, ?it/s]"
          ],
          "name": "stderr"
        },
        {
          "output_type": "stream",
          "text": [
            "1\n"
          ],
          "name": "stdout"
        },
        {
          "output_type": "stream",
          "text": [
            "/usr/local/lib/python3.6/dist-packages/ipykernel_launcher.py:46: UserWarning: Implicit dimension choice for log_softmax has been deprecated. Change the call to include dim=X as an argument.\n",
            "loss=0.020195314660668373 batch_id=468: 100%|██████████| 469/469 [00:14<00:00, 31.88it/s]\n",
            "  0%|          | 0/469 [00:00<?, ?it/s]"
          ],
          "name": "stderr"
        },
        {
          "output_type": "stream",
          "text": [
            "\n",
            "Test set: Average loss: 0.0654, Accuracy: 9800/10000 (98.00%)\n",
            "\n",
            "2\n"
          ],
          "name": "stdout"
        },
        {
          "output_type": "stream",
          "text": [
            "loss=0.020747864618897438 batch_id=468: 100%|██████████| 469/469 [00:13<00:00, 35.02it/s]\n",
            "  0%|          | 0/469 [00:00<?, ?it/s]"
          ],
          "name": "stderr"
        },
        {
          "output_type": "stream",
          "text": [
            "\n",
            "Test set: Average loss: 0.0362, Accuracy: 9890/10000 (98.90%)\n",
            "\n",
            "3\n"
          ],
          "name": "stdout"
        },
        {
          "output_type": "stream",
          "text": [
            "loss=0.026751963421702385 batch_id=468: 100%|██████████| 469/469 [00:13<00:00, 34.93it/s]\n",
            "  0%|          | 0/469 [00:00<?, ?it/s]"
          ],
          "name": "stderr"
        },
        {
          "output_type": "stream",
          "text": [
            "\n",
            "Test set: Average loss: 0.0320, Accuracy: 9894/10000 (98.94%)\n",
            "\n",
            "4\n"
          ],
          "name": "stdout"
        },
        {
          "output_type": "stream",
          "text": [
            "loss=0.050455331802368164 batch_id=468: 100%|██████████| 469/469 [00:13<00:00, 33.62it/s]\n",
            "  0%|          | 0/469 [00:00<?, ?it/s]"
          ],
          "name": "stderr"
        },
        {
          "output_type": "stream",
          "text": [
            "\n",
            "Test set: Average loss: 0.0268, Accuracy: 9911/10000 (99.11%)\n",
            "\n",
            "5\n"
          ],
          "name": "stdout"
        },
        {
          "output_type": "stream",
          "text": [
            "loss=0.17456835508346558 batch_id=468: 100%|██████████| 469/469 [00:13<00:00, 34.28it/s]\n",
            "  0%|          | 0/469 [00:00<?, ?it/s]"
          ],
          "name": "stderr"
        },
        {
          "output_type": "stream",
          "text": [
            "\n",
            "Test set: Average loss: 0.0246, Accuracy: 9915/10000 (99.15%)\n",
            "\n",
            "6\n"
          ],
          "name": "stdout"
        },
        {
          "output_type": "stream",
          "text": [
            "loss=0.049825266003608704 batch_id=468: 100%|██████████| 469/469 [00:13<00:00, 34.61it/s]\n",
            "  0%|          | 0/469 [00:00<?, ?it/s]"
          ],
          "name": "stderr"
        },
        {
          "output_type": "stream",
          "text": [
            "\n",
            "Test set: Average loss: 0.0243, Accuracy: 9911/10000 (99.11%)\n",
            "\n",
            "7\n"
          ],
          "name": "stdout"
        },
        {
          "output_type": "stream",
          "text": [
            "loss=0.03706607595086098 batch_id=468: 100%|██████████| 469/469 [00:13<00:00, 34.44it/s]\n",
            "  0%|          | 0/469 [00:00<?, ?it/s]"
          ],
          "name": "stderr"
        },
        {
          "output_type": "stream",
          "text": [
            "\n",
            "Test set: Average loss: 0.0268, Accuracy: 9909/10000 (99.09%)\n",
            "\n",
            "8\n"
          ],
          "name": "stdout"
        },
        {
          "output_type": "stream",
          "text": [
            "loss=0.002317566890269518 batch_id=468: 100%|██████████| 469/469 [00:13<00:00, 34.14it/s]\n",
            "  0%|          | 0/469 [00:00<?, ?it/s]"
          ],
          "name": "stderr"
        },
        {
          "output_type": "stream",
          "text": [
            "\n",
            "Test set: Average loss: 0.0212, Accuracy: 9932/10000 (99.32%)\n",
            "\n",
            "9\n"
          ],
          "name": "stdout"
        },
        {
          "output_type": "stream",
          "text": [
            "loss=0.04866103455424309 batch_id=468: 100%|██████████| 469/469 [00:14<00:00, 32.72it/s]\n",
            "  0%|          | 0/469 [00:00<?, ?it/s]"
          ],
          "name": "stderr"
        },
        {
          "output_type": "stream",
          "text": [
            "\n",
            "Test set: Average loss: 0.0244, Accuracy: 9933/10000 (99.33%)\n",
            "\n",
            "10\n"
          ],
          "name": "stdout"
        },
        {
          "output_type": "stream",
          "text": [
            "loss=0.002427940024062991 batch_id=468: 100%|██████████| 469/469 [00:13<00:00, 34.12it/s]\n",
            "  0%|          | 0/469 [00:00<?, ?it/s]"
          ],
          "name": "stderr"
        },
        {
          "output_type": "stream",
          "text": [
            "\n",
            "Test set: Average loss: 0.0246, Accuracy: 9909/10000 (99.09%)\n",
            "\n",
            "11\n"
          ],
          "name": "stdout"
        },
        {
          "output_type": "stream",
          "text": [
            "loss=0.03557053580880165 batch_id=468: 100%|██████████| 469/469 [00:13<00:00, 34.81it/s]\n",
            "  0%|          | 0/469 [00:00<?, ?it/s]"
          ],
          "name": "stderr"
        },
        {
          "output_type": "stream",
          "text": [
            "\n",
            "Test set: Average loss: 0.0230, Accuracy: 9933/10000 (99.33%)\n",
            "\n",
            "12\n"
          ],
          "name": "stdout"
        },
        {
          "output_type": "stream",
          "text": [
            "loss=0.002243065508082509 batch_id=468: 100%|██████████| 469/469 [00:13<00:00, 34.58it/s]\n",
            "  0%|          | 0/469 [00:00<?, ?it/s]"
          ],
          "name": "stderr"
        },
        {
          "output_type": "stream",
          "text": [
            "\n",
            "Test set: Average loss: 0.0236, Accuracy: 9929/10000 (99.29%)\n",
            "\n",
            "13\n"
          ],
          "name": "stdout"
        },
        {
          "output_type": "stream",
          "text": [
            "loss=0.014871564693748951 batch_id=468: 100%|██████████| 469/469 [00:13<00:00, 34.03it/s]\n",
            "  0%|          | 0/469 [00:00<?, ?it/s]"
          ],
          "name": "stderr"
        },
        {
          "output_type": "stream",
          "text": [
            "\n",
            "Test set: Average loss: 0.0213, Accuracy: 9935/10000 (99.35%)\n",
            "\n",
            "14\n"
          ],
          "name": "stdout"
        },
        {
          "output_type": "stream",
          "text": [
            "loss=0.031892839819192886 batch_id=468: 100%|██████████| 469/469 [00:13<00:00, 34.29it/s]\n",
            "  0%|          | 0/469 [00:00<?, ?it/s]"
          ],
          "name": "stderr"
        },
        {
          "output_type": "stream",
          "text": [
            "\n",
            "Test set: Average loss: 0.0203, Accuracy: 9939/10000 (99.39%)\n",
            "\n",
            "15\n"
          ],
          "name": "stdout"
        },
        {
          "output_type": "stream",
          "text": [
            "loss=0.0052350182086229324 batch_id=468: 100%|██████████| 469/469 [00:13<00:00, 34.99it/s]\n",
            "  0%|          | 0/469 [00:00<?, ?it/s]"
          ],
          "name": "stderr"
        },
        {
          "output_type": "stream",
          "text": [
            "\n",
            "Test set: Average loss: 0.0228, Accuracy: 9932/10000 (99.32%)\n",
            "\n",
            "16\n"
          ],
          "name": "stdout"
        },
        {
          "output_type": "stream",
          "text": [
            "loss=0.0013596578501164913 batch_id=468: 100%|██████████| 469/469 [00:13<00:00, 34.52it/s]\n",
            "  0%|          | 0/469 [00:00<?, ?it/s]"
          ],
          "name": "stderr"
        },
        {
          "output_type": "stream",
          "text": [
            "\n",
            "Test set: Average loss: 0.0209, Accuracy: 9932/10000 (99.32%)\n",
            "\n",
            "17\n"
          ],
          "name": "stdout"
        },
        {
          "output_type": "stream",
          "text": [
            "loss=0.001838801777921617 batch_id=468: 100%|██████████| 469/469 [00:14<00:00, 33.44it/s]\n",
            "  0%|          | 0/469 [00:00<?, ?it/s]"
          ],
          "name": "stderr"
        },
        {
          "output_type": "stream",
          "text": [
            "\n",
            "Test set: Average loss: 0.0197, Accuracy: 9944/10000 (99.44%)\n",
            "\n",
            "18\n"
          ],
          "name": "stdout"
        },
        {
          "output_type": "stream",
          "text": [
            "loss=0.0022970607969909906 batch_id=468: 100%|██████████| 469/469 [00:13<00:00, 34.24it/s]\n",
            "  0%|          | 0/469 [00:00<?, ?it/s]"
          ],
          "name": "stderr"
        },
        {
          "output_type": "stream",
          "text": [
            "\n",
            "Test set: Average loss: 0.0241, Accuracy: 9926/10000 (99.26%)\n",
            "\n",
            "19\n"
          ],
          "name": "stdout"
        },
        {
          "output_type": "stream",
          "text": [
            "loss=0.009221390821039677 batch_id=468: 100%|██████████| 469/469 [00:14<00:00, 33.49it/s]\n"
          ],
          "name": "stderr"
        },
        {
          "output_type": "stream",
          "text": [
            "\n",
            "Test set: Average loss: 0.0227, Accuracy: 9933/10000 (99.33%)\n",
            "\n"
          ],
          "name": "stdout"
        }
      ]
    }
  ]
}